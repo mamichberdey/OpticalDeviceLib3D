{
 "cells": [
  {
   "cell_type": "markdown",
   "metadata": {},
   "source": [
    "Импорт фичей и инициализация сетки"
   ]
  },
  {
   "cell_type": "code",
   "execution_count": 1,
   "metadata": {},
   "outputs": [
    {
     "name": "stdout",
     "output_type": "stream",
     "text": [
      "GPU is available!\n",
      "границы поля X +- 64.0 мкм\n",
      "границы поля Y +- 327.68 мкм\n"
     ]
    }
   ],
   "source": [
    "import numpy as np\n",
    "import opticaldevicelib_2d as od_2d\n",
    "\n",
    "# od_2d.OpticalDevice.init_values(new_dx=6e-8, new_dy=6e-8, new_Nx=2**11, new_Ny=2**11, gpu_use=True)\n",
    "# od_2d.OpticalDevice.init_values(new_dx=5e-7, new_dy=5e-9, new_Nx=2**8, new_Ny=2**17, gpu_use=True)\n",
    "od_2d.OpticalDevice.init_values(new_dx=5e-7, new_dy=1e-8, new_Nx=2**7, new_Ny=2**15, gpu_use=True)\n",
    "print(f\"границы поля X +- {od_2d.OpticalDevice.Nx * od_2d.OpticalDevice.dx * 1e6} мкм\")\n",
    "print(f\"границы поля Y +- {od_2d.OpticalDevice.Ny * od_2d.OpticalDevice.dy * 1e6} мкм\")"
   ]
  },
  {
   "cell_type": "markdown",
   "metadata": {},
   "source": [
    "Инициализация линзы для 2d сетки:"
   ]
  },
  {
   "cell_type": "code",
   "execution_count": 6,
   "metadata": {},
   "outputs": [
    {
     "name": "stdout",
     "output_type": "stream",
     "text": [
      "фокусное расстояние = 21.713 мм\n",
      "оценка макс. числа линз = 149\n"
     ]
    }
   ],
   "source": [
    "p = od_2d.PointSource(z=100, En=12) \n",
    "\n",
    "try:\n",
    "    x, y = p.x[0].get()*1e6, p.y[:,0].get()*1e6\n",
    "except:\n",
    "    x, y = p.x*1e6, p.y*1e6\n",
    "\n",
    "E_ps1 = p.E() / p.E() # плоская волна\n",
    "\n",
    "N_gl = 40\n",
    "Copy_flag = True\n",
    "arr_len = 2 if Copy_flag else 2*N_gl\n",
    "\n",
    "phases = 2*np.pi*np.random.rand(arr_len)\n",
    "w_s = (np.random.rand(arr_len)-0.5)*np.pi/180*0\n",
    "s_s  = (np.random.rand(arr_len)-0.5)*2e-6*0\n",
    "\n",
    "crl2D = od_2d.CRL2D(lam=p.lam, arr_start=E_ps1, z=0,\\\n",
    "                 R=6.25e-6, A=50e-6, d=2e-6, N_lens=N_gl, mol=\"Si\", dens=2.33)\n",
    "\n",
    "\n",
    "crl1D = od_2d.CRL1D(lam=p.lam, arr_start=E_ps1, z=0, \\\n",
    "                 R=6.25e-6, A=50e-6, d=2e-6, N_lens=N_gl, mol=\"Si\", dens=2.33, \\\n",
    "                    lt=50e-6)\n",
    "\n",
    "crl2Dm = od_2d.CRL2Dm(lam=p.lam, arr_start=E_ps1, z=0, \\\n",
    "                   R=6.25e-6, A=50e-6, d=2e-6, N_lens=N_gl, mol=\"Si\", dens=2.33, \\\n",
    "                   copy=Copy_flag, arr_phase=phases, arr_s=s_s, arr_w=w_s, \\\n",
    "                    b=3e-8, m=2.5)\n",
    "\n",
    "crl1Dm = od_2d.CRL1Dm(lam=p.lam, arr_start=E_ps1, z=0, \\\n",
    "                   R=6.25e-6, A=50e-6, d=2e-6, N_lens=N_gl, mol=\"Si\", dens=2.33, \\\n",
    "                   copy=Copy_flag, arr_phase=phases, arr_s=s_s, arr_w=w_s, \\\n",
    "                    lt=50e-6, by=-5e-7, my=1.9, bx=0, mx=3e8)\n",
    "\n",
    "crl_2d = crl1Dm # !!! SELECT TYPE OF CRL !!!\n",
    "focus = crl_2d.focus()\n",
    "crl_2d.set_z(z=focus)\n",
    "print(f\"фокусное расстояние = {focus * 1e3 :.3f} мм\")\n",
    "print(f\"оценка макс. числа линз = {int(crl_2d.Lc() * np.pi / 2)}\")"
   ]
  },
  {
   "cell_type": "markdown",
   "metadata": {},
   "source": [
    "Построение профиля поверхности элемента в 3D (при необходимости)"
   ]
  },
  {
   "cell_type": "code",
   "execution_count": null,
   "metadata": {},
   "outputs": [],
   "source": [
    "import numpy as np\n",
    "import plotly.graph_objects as go\n",
    "# Generate nicely looking random 3D-field\n",
    "\n",
    "\n",
    "X, Y = np.meshgrid(x, y)\n",
    "Z = crl_2d.T().get()*1e6\n",
    "import plotly.graph_objects as go\n",
    "from plotly.subplots import make_subplots\n",
    "\n",
    "fig = make_subplots(rows=1, cols=1,\n",
    "                    specs=[[{'is_3d': True}]],\n",
    "                    )\n",
    "\n",
    "fig.add_trace(go.Surface(x=X, y=Y, z=Z, colorbar_x=-0.07))\n",
    "# fig.add_trace(go.Surface(x=x, y=y, z=Z, surfacecolor=X**2 + Y**2 + Z**2), 1, 2)\n",
    "fig.update_layout(\n",
    "    width=800,\n",
    "    height=800\n",
    ")\n",
    "xGrid, yGrid = np.meshgrid(x, y)\n",
    "xRevGrid, yRevGrid = np.meshgrid(y, x)\n",
    "line_marker = dict(color='black', width=2)\n",
    "\n",
    "## add gridlines in one direction using mesh grid\n",
    "for i, j, k in zip(xGrid, yGrid, Z):\n",
    "    fig.add_trace(go.Scatter3d(x=i, y=j, z=k, mode='lines', line=line_marker, showlegend=False)) # this works\n",
    "\n",
    "## add gridlines in perpendicular direction using reverse mesh grid\n",
    "for i, j, k in zip(xRevGrid, yRevGrid, Z.T):\n",
    "    fig.add_trace(go.Scatter3d(x=j, y=i, z=k, mode='lines', line=line_marker, showlegend=False)) # this doesn't work\n",
    "\n",
    "fig.update_layout(title='Mt Bruno Elevation', autosize=True,\n",
    "                  scene_camera_eye=dict(x=1.87, y=0.88, z=-0.64),\n",
    "                  margin=dict(l=65, r=50, b=65, t=90)\n",
    ")\n",
    "fig.show(renderer='vscode')"
   ]
  },
  {
   "cell_type": "code",
   "execution_count": null,
   "metadata": {},
   "outputs": [],
   "source": [
    "fig.write_image('figure.png', scale=2)"
   ]
  },
  {
   "cell_type": "code",
   "execution_count": null,
   "metadata": {},
   "outputs": [],
   "source": [
    "import matplotlib.pyplot as plt\n",
    "\n",
    "T_arr = crl_2d.T()\n",
    "try:\n",
    "    T = T_arr.get()\n",
    "    T2 = crl1D.T().get()\n",
    "except:\n",
    "    T = -T_arr\n",
    "    T2 = -crl2D.T()\n",
    "\n",
    "\n",
    "fig, ax = plt.subplots(subplot_kw={\"projection\": \"3d\"})\n",
    "# Make data.\n",
    "X__, Y__ = np.meshgrid(x, y)\n",
    "Z__ = T\n",
    "\n",
    "# Plot the surface.\n",
    "surf = ax.plot_surface(X__, Y__, Z__, cmap=\"jet\",\n",
    "                       linewidth=0, antialiased=False)\n",
    "\n",
    "\n",
    "ax.zaxis.set_major_formatter('{x:.02f}')\n",
    "\n",
    "# Add a color bar which maps values to colors.\n",
    "fig.colorbar(surf, shrink=0.5, aspect=5)\n",
    "\n",
    "plt.show()"
   ]
  },
  {
   "cell_type": "code",
   "execution_count": null,
   "metadata": {},
   "outputs": [],
   "source": [
    "import matplotlib.pyplot as plt\n",
    "\n",
    "X, Y = np.meshgrid(x, y)\n",
    "Z = crl_2d.T().get()*1e6\n",
    "\n",
    "fig1,ax1 = plt.subplots(1, 1)\n",
    "# fig1.set_figheight(15)\n",
    "# fig1.set_figwidth(15)\n",
    "colbar = plt.pcolormesh(X, Y, Z)\n",
    "cbar = fig1.colorbar(colbar)\n",
    "cbar.set_label('$z$, μm')\n",
    "\n",
    "# plt.title(\"Intensity distribution at the focus (an ideal CRL)\")\n",
    "# plt.axvline(x = 0, color = 'g', alpha=0.8, linewidth=0.5)\n",
    "# plt.plot([x_cutted[0]*1e6, x_cutted[-1]*1e6], [focus*1e3, focus*1e3], 'g', alpha=0.8, linewidth=0.5)\n",
    "# plt.plot([(dx_max*1e-6 - fwhm/2)*1e6, (dx_max*1e-6 + fwhm/2)*1e6], [(dz_max*1e-3 + focus)*1e3, (dz_max*1e-3 + focus)*1e3], marker='|', color=\"blue\", linewidth=0.5)\n",
    "plt.xlabel(\"$x$, μm\")\n",
    "plt.ylabel(\"$y$, μm\")\n",
    "plt.ylim(-50, 50)\n",
    "# plt.savefig(\"100nm_2d\", dpi=2400);"
   ]
  },
  {
   "cell_type": "markdown",
   "metadata": {},
   "source": [
    "Численный расчет фокусного параметра в окрестности eps"
   ]
  },
  {
   "cell_type": "code",
   "execution_count": 7,
   "metadata": {},
   "outputs": [
    {
     "name": "stderr",
     "output_type": "stream",
     "text": [
      "100%|██████████| 39/39 [00:00<00:00, 1179.89it/s]\n"
     ]
    },
    {
     "name": "stdout",
     "output_type": "stream",
     "text": [
      " dz = 1.1999999999999997 mm \n",
      " dx = -23.749999999999996 μm \n",
      " dy = -0.005 μm \n",
      " fwhm_x = 11.223532717042223 μm \n",
      " fwhm_y = 0.12244690856863114 μm \n",
      " I_max = 135.78960917748876 rel. un. \n",
      " div_ang_x = 1.8390494882503106e-06 \n",
      " div_ang_y = 0.00030637129587351986\n"
     ]
    }
   ],
   "source": [
    "I_distr_max, I_max, dz_max, dy_max, dx_max, fwhm_y, fwhm_x, focus_images, z_arr, div_ang_x, div_ang_y, x_cutted, y_cutted\\\n",
    "     = crl_2d.focus_params(n_dots=200, eps=5e-3, ny_cut=150, nx_cut=150)\n",
    "print(f\" dz = {dz_max} mm \\n dx = {dx_max} μm \\n dy = {dy_max} μm \\n fwhm_x = {fwhm_x*1e6} μm \\n fwhm_y = {fwhm_y*1e6} μm \\n I_max = {I_max} rel. un. \\n div_ang_x = {div_ang_x} \\n div_ang_y = {div_ang_y}\")\n",
    "\n",
    "# print(f\" dz = {dz_max:.3f} mm \\n dx = {dx_max:.3f} μm \\n dy = {dy_max:.3f} μm \\n fwhm_x = {fwhm_x*1e6:.3f} μm \\n fwhm_y = {fwhm_y*1e6:.3f} μm \\n I_max = {I_max:.1f} rel. un. \\n div_ang_x = {div_ang_x} \\n div_ang_y = {div_ang_y}\")"
   ]
  },
  {
   "cell_type": "code",
   "execution_count": null,
   "metadata": {},
   "outputs": [],
   "source": [
    "z_arr[2] - z_arr[1]"
   ]
  },
  {
   "cell_type": "code",
   "execution_count": 9,
   "metadata": {},
   "outputs": [
    {
     "name": "stderr",
     "output_type": "stream",
     "text": [
      "C:\\Users\\sanja\\AppData\\Local\\Temp\\ipykernel_9656\\789676293.py:2: DeprecationWarning: Conversion of an array with ndim > 0 to a scalar is deprecated, and will error in future. Ensure you extract a single element from your array before performing this operation. (Deprecated NumPy 1.25.)\n",
      "  index_zero = int(np.where(dz_arr==0)[0])\n"
     ]
    }
   ],
   "source": [
    "dz_arr = z_arr-focus\n",
    "index_zero = int(np.where(dz_arr==0)[0])\n",
    "I_distr_zero = focus_images[index_zero]"
   ]
  },
  {
   "cell_type": "code",
   "execution_count": null,
   "metadata": {},
   "outputs": [],
   "source": [
    "focus*1e3+dz_max"
   ]
  },
  {
   "cell_type": "code",
   "execution_count": 10,
   "metadata": {},
   "outputs": [
    {
     "data": {
      "image/png": "[encoded data removed]",
      "text/plain": [
       "<Figure size 640x480 with 2 Axes>"
      ]
     },
     "metadata": {},
     "output_type": "display_data"
    }
   ],
   "source": [
    "import matplotlib.pyplot as plt\n",
    "X, Y = np.meshgrid(x_cutted, y_cutted)\n",
    "# Z = I_distr_max \n",
    "Z = I_distr_zero\n",
    "\n",
    "fig1,ax1 = plt.subplots(1, 1)\n",
    "# fig1.set_figheight(15)\n",
    "# fig1.set_figwidth(15)\n",
    "colbar = plt.pcolormesh(X, Y, Z, cmap='inferno')\n",
    "cbar = fig1.colorbar(colbar)\n",
    "cbar.set_label('$I$, a.u.')\n",
    "\n",
    "# plt.title(\"Intensity distribution at the focus (an ideal CRL)\")\n",
    "# plt.axvline(x = 0, color = 'g', alpha=0.8, linewidth=0.5)\n",
    "# plt.plot([x_cutted[0]*1e6, x_cutted[-1]*1e6], [focus*1e3, focus*1e3], 'g', alpha=0.8, linewidth=0.5)\n",
    "# plt.plot([(dx_max*1e-6 - fwhm/2)*1e6, (dx_max*1e-6 + fwhm/2)*1e6], [(dz_max*1e-3 + focus)*1e3, (dz_max*1e-3 + focus)*1e3], marker='|', color=\"blue\", linewidth=0.5)\n",
    "plt.xlabel(\"$y$, μm\")\n",
    "plt.ylabel(\"$x$, μm\")\n",
    "plt.savefig(\"ideal_2d\", dpi=2400);"
   ]
  },
  {
   "cell_type": "code",
   "execution_count": null,
   "metadata": {},
   "outputs": [],
   "source": [
    "import plotly.graph_objects as go\n",
    "# Create and show figure\n",
    "fig = go.Figure(go.Heatmap(\n",
    "    z=I_distr_max.get(), x=x_cutted, y=y_cutted, colorscale=\"Inferno\"\n",
    "    # colorbar=dict(\n",
    "    #     x=0.2,\n",
    "    #     xref=\"container\",\n",
    "    #     title=\"Surface Heat\"\n",
    "    # )\n",
    "))\n",
    "fig.update_layout(\n",
    "    width=1200,\n",
    "    height=1200\n",
    ")\n",
    "fig.write_image(\"images/fig1.png\", dpi=1200)\n",
    "fig.show()"
   ]
  },
  {
   "cell_type": "markdown",
   "metadata": {},
   "source": [
    "Распределение интенсивности I(x, y) в зависимости от Z"
   ]
  },
  {
   "cell_type": "code",
   "execution_count": null,
   "metadata": {},
   "outputs": [],
   "source": [
    "volume = focus_images\n",
    "r, c = volume[0].shape\n",
    "\n",
    "# Define frames\n",
    "import plotly.graph_objects as go\n",
    "nb_frames = len(volume)\n",
    "\n",
    "\n",
    "layout = go.Layout(xaxis=go.layout.XAxis(\n",
    "    title=go.layout.xaxis.Title(\n",
    "        text='x, μm',\n",
    "    )),\n",
    "yaxis=go.layout.YAxis(\n",
    "    title=go.layout.yaxis.Title(\n",
    "        text='y, μm',\n",
    "    )\n",
    "))\n",
    "\n",
    "\n",
    "fig = go.Figure(layout=layout, frames=[go.Frame(data=go.Heatmap(\n",
    "    z=volume[k], x=x_cutted, y=y_cutted, colorscale=\"hot\", zmin=0, zmax=np.max(volume)\n",
    "    ),\n",
    "    name=str(k) # you need to name the frame for the animation to behave properly\n",
    "    )\n",
    "    for k in range(nb_frames)])\n",
    "\n",
    "# Add data to be displayed before animation starts\n",
    "fig.add_trace(go.Heatmap(\n",
    "    z=volume[0], x=x_cutted, y=y_cutted,\n",
    "    colorscale=\"hot\", zmin=0, zmax=0,\n",
    "    colorbar=dict(thickness=20, ticklen=4, title=\"I, rel. un.\")\n",
    "    ))\n",
    "\n",
    "\n",
    "def frame_args(duration):\n",
    "    return {\n",
    "            \"frame\": {\"duration\": duration},\n",
    "            \"mode\": \"immediate\",\n",
    "            \"fromcurrent\": True,\n",
    "            \"transition\": {\"duration\": duration, \"easing\": \"linear\"},\n",
    "        }\n",
    "\n",
    "sliders = [\n",
    "            {\n",
    "                \"pad\": {\"b\": 10, \"t\": 60},\n",
    "                \"len\": 0.9,\n",
    "                \"x\": 0.1,\n",
    "                \"y\": 0,\n",
    "                \"steps\": [\n",
    "                    {\n",
    "                        \"args\": [[f.name], frame_args(0)],\n",
    "                        \"label\": str(\"{:.2f}\".format(1000*(float(z_arr[k])-focus))),\n",
    "                        \"method\": \"animate\",\n",
    "                    }\n",
    "                    for k, f in enumerate(fig.frames)\n",
    "                ],\n",
    "            }\n",
    "        ]\n",
    "\n",
    "\n",
    "# Layout\n",
    "fig.update_layout(\n",
    "         title='Focal spot',\n",
    "         width=1200,\n",
    "         height=1200,\n",
    "         updatemenus = [\n",
    "            {\n",
    "                \"buttons\": [\n",
    "                    {\n",
    "                        \"args\": [None, frame_args(50)],\n",
    "                        \"label\": \"&#9654;\", # play symbol\n",
    "                        \"method\": \"animate\",\n",
    "                    },\n",
    "                    {\n",
    "                        \"args\": [[None], frame_args(0)],\n",
    "                        \"label\": \"&#9724;\", # pause symbol\n",
    "                        \"method\": \"animate\",\n",
    "                    },\n",
    "                ],\n",
    "                \"direction\": \"left\",\n",
    "                \"pad\": {\"r\": 10, \"t\": 70},\n",
    "                \"type\": \"buttons\",\n",
    "                \"x\": 0.1,\n",
    "                \"y\": 0,\n",
    "            }\n",
    "         ],\n",
    "         sliders=sliders\n",
    ")\n",
    "\n",
    "fig.show()"
   ]
  },
  {
   "cell_type": "markdown",
   "metadata": {},
   "source": [
    "Распределение интесивности при заданном Z"
   ]
  },
  {
   "cell_type": "code",
   "execution_count": null,
   "metadata": {},
   "outputs": [],
   "source": [
    "# %matplotlib widget\n",
    "import matplotlib.pyplot as plt\n",
    "from matplotlib.widgets import Slider\n",
    "\n",
    "# Создаем массив данных (можно использовать свои данные)\n",
    "# data = focus_images[np.max(np.where(z_arr-focus_2d<-1.5e-3))].T\n",
    "data = I_distr_max\n",
    "# Создаем начальный график по индексу 0\n",
    "fig, ax = plt.subplots()\n",
    "l, = ax.plot(data[0])\n",
    "ax.set_ylim(0, np.max(data))\n",
    "ax.set_xlim(y_cutted[0], y_cutted[-1])\n",
    "ax.set_xlim(-4.5, 4.5)\n",
    "# Создаем слайдер\n",
    "axcolor = 'lightgoldenrodyellow'\n",
    "slider_ax = plt.axes([0.2, 0.02, 0.65, 0.03], facecolor=axcolor)\n",
    "slider = Slider(slider_ax, 'Index', 0, len(data)-1, valinit=0, valstep=1)\n",
    "\n",
    "# Функция обновления графика по индексу\n",
    "def update(val):\n",
    "    index = int(slider.val)\n",
    "    l.set_ydata(data[index])\n",
    "    l.set_xdata(y_cutted)\n",
    "    ax.set_title(\"$x$ = \"+ f\"{(x_cutted[index]):.1f} μм\")\n",
    "    plt.draw()\n",
    "\n",
    "slider.on_changed(update)\n",
    "\n",
    "plt.show()"
   ]
  },
  {
   "cell_type": "code",
   "execution_count": null,
   "metadata": {},
   "outputs": [],
   "source": []
  }
 ],
 "metadata": {
  "kernelspec": {
   "display_name": "cu_env",
   "language": "python",
   "name": "python3"
  },
  "language_info": {
   "codemirror_mode": {
    "name": "ipython",
    "version": 3
   },
   "file_extension": ".py",
   "mimetype": "text/x-python",
   "name": "python",
   "nbconvert_exporter": "python",
   "pygments_lexer": "ipython3",
   "version": "3.9.18"
  }
 },
 "nbformat": 4,
 "nbformat_minor": 2
}
