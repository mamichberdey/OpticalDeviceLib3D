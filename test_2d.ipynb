{
 "cells": [
  {
   "cell_type": "markdown",
   "metadata": {},
   "source": [
    "Импорт фичей и инициализация сетки"
   ]
  },
  {
   "cell_type": "code",
   "execution_count": 1,
   "metadata": {},
   "outputs": [
    {
     "name": "stdout",
     "output_type": "stream",
     "text": [
      "GPU is available!\n",
      "GPU is available!\n",
      "границы поля X +- 61.44 мкм\n",
      "границы поля Y +- 61.44 мкм\n"
     ]
    }
   ],
   "source": [
    "import numpy as np\n",
    "import opticaldevicelib_2d as od_2d\n",
    "\n",
    "od_2d.OpticalDevice.init_values(new_dx=6e-8, new_dy=6e-8, new_Nx=2**10, new_Ny=2**10, gpu_use=True)\n",
    "# od_2d.OpticalDevice.init_values(new_dx=5e-7, new_dy=5e-9, new_Nx=2**8, new_Ny=2**17, gpu_use=True)\n",
    "# od_2d.OpticalDevice.init_values(new_dx=5e-7, new_dy=1e-8, new_Nx=2**7, new_Ny=2**15, gpu_use=True)\n",
    "# M = 1\n",
    "# od_2d.OpticalDevice.init_values(new_dx=8e-8*M, new_dy=8e-8/M, new_Nx=2**10/M, new_Ny=2**10*M, gpu_use=True)\n",
    "print(f\"границы поля X +- {od_2d.OpticalDevice.Nx * od_2d.OpticalDevice.dx * 1e6} мкм\")\n",
    "print(f\"границы поля Y +- {od_2d.OpticalDevice.Ny * od_2d.OpticalDevice.dy * 1e6} мкм\")"
   ]
  },
  {
   "cell_type": "markdown",
   "metadata": {},
   "source": [
    "Инициализация линзы для 2d сетки:"
   ]
  },
  {
   "cell_type": "code",
   "execution_count": 2,
   "metadata": {},
   "outputs": [
    {
     "name": "stdout",
     "output_type": "stream",
     "text": [
      "фокусное расстояние = 34.634 мм\n",
      "оценка макс. числа линз = 149\n"
     ]
    }
   ],
   "source": [
    "p = od_2d.PointSource(z=100, En=12, x0=0, y0=0) \n",
    "\n",
    "try:\n",
    "    x, y = p.x[0].get()*1e6, p.y[:,0].get()*1e6\n",
    "except:\n",
    "    x, y = p.x*1e6, p.y*1e6\n",
    "\n",
    "E_ps1 = p.E() / p.E() # плоская волна\n",
    "\n",
    "\n",
    "\n",
    "N_gl = 26\n",
    "Copy_flag = True\n",
    "arr_len = 2 if Copy_flag else 2*N_gl\n",
    "\n",
    "phases = 2*np.pi*np.random.rand(arr_len)\n",
    "w_s = (np.random.rand(arr_len)-0.5)*np.pi/180*0\n",
    "s_s  = (np.random.rand(arr_len)-0.5)*2e-6*0\n",
    "\n",
    "crl2D = od_2d.CRL2D(lam=p.lam, arr_start=E_ps1, z=0,\\\n",
    "                 R=6.25e-6, A=50e-6, d=2e-6, N_lens=N_gl, mol=\"Si\", dens=2.33)\n",
    "\n",
    "\n",
    "crl1D = od_2d.CRL1D(lam=p.lam, arr_start=E_ps1, z=0, \\\n",
    "                 R=6.25e-6, A=50e-6, d=2e-6, N_lens=N_gl, mol=\"Si\", dens=2.33, \\\n",
    "                    lt=50e-6)\n",
    "\n",
    "crl2Dm = od_2d.CRL2Dm(lam=p.lam, arr_start=E_ps1, z=0, \\\n",
    "                   R=6.25e-6, A=50e-6, d=2e-6, N_lens=N_gl, mol=\"Si\", dens=2.33, \\\n",
    "                   copy=Copy_flag, arr_phase=phases, arr_s=s_s, arr_w=w_s, \\\n",
    "                    b=3e-8, m=2.5)\n",
    "\n",
    "# crl1Dm = od_2d.CRL1Dmm(lam=p.lam, arr_start=E_ps1, z=0, \\\n",
    "#                    R=6.25e-6, A=50e-6, d=2e-6, N_lens=N_gl, mol=\"Si\", dens=2.33, \\\n",
    "#                    copy=Copy_flag, arr_phase=phases, arr_s=s_s, arr_w=w_s, \\\n",
    "#                     lt=50e-6, by=0, my=1.9, bx=0, mx=3e8)\n",
    "\n",
    "crl_2d = crl1D # !!! SELECT TYPE OF CRL !!!\n",
    "focus = crl_2d.focus()\n",
    "crl_2d.set_z(z=focus)\n",
    "print(f\"фокусное расстояние = {focus * 1e3 :.3f} мм\")\n",
    "print(f\"оценка макс. числа линз = {int(crl_2d.Lc() * np.pi / 2)}\")"
   ]
  },
  {
   "cell_type": "markdown",
   "metadata": {},
   "source": [
    "Построение профиля поверхности элемента в 3D (при необходимости)"
   ]
  },
  {
   "cell_type": "code",
   "execution_count": 3,
   "metadata": {},
   "outputs": [
    {
     "ename": "KeyboardInterrupt",
     "evalue": "",
     "output_type": "error",
     "traceback": [
      "\u001b[1;31m---------------------------------------------------------------------------\u001b[0m",
      "\u001b[1;31mKeyboardInterrupt\u001b[0m                         Traceback (most recent call last)",
      "Cell \u001b[1;32mIn[3], line 37\u001b[0m\n\u001b[0;32m     31\u001b[0m     fig\u001b[38;5;241m.\u001b[39madd_trace(go\u001b[38;5;241m.\u001b[39mScatter3d(x\u001b[38;5;241m=\u001b[39mj, y\u001b[38;5;241m=\u001b[39mi, z\u001b[38;5;241m=\u001b[39mk, mode\u001b[38;5;241m=\u001b[39m\u001b[38;5;124m'\u001b[39m\u001b[38;5;124mlines\u001b[39m\u001b[38;5;124m'\u001b[39m, line\u001b[38;5;241m=\u001b[39mline_marker, showlegend\u001b[38;5;241m=\u001b[39m\u001b[38;5;28;01mFalse\u001b[39;00m)) \u001b[38;5;66;03m# this doesn't work\u001b[39;00m\n\u001b[0;32m     33\u001b[0m fig\u001b[38;5;241m.\u001b[39mupdate_layout(title\u001b[38;5;241m=\u001b[39m\u001b[38;5;124m'\u001b[39m\u001b[38;5;124mMt Bruno Elevation\u001b[39m\u001b[38;5;124m'\u001b[39m, autosize\u001b[38;5;241m=\u001b[39m\u001b[38;5;28;01mTrue\u001b[39;00m,\n\u001b[0;32m     34\u001b[0m                   scene_camera_eye\u001b[38;5;241m=\u001b[39m\u001b[38;5;28mdict\u001b[39m(x\u001b[38;5;241m=\u001b[39m\u001b[38;5;241m1.87\u001b[39m, y\u001b[38;5;241m=\u001b[39m\u001b[38;5;241m0.88\u001b[39m, z\u001b[38;5;241m=\u001b[39m\u001b[38;5;241m-\u001b[39m\u001b[38;5;241m0.64\u001b[39m),\n\u001b[0;32m     35\u001b[0m                   margin\u001b[38;5;241m=\u001b[39m\u001b[38;5;28mdict\u001b[39m(l\u001b[38;5;241m=\u001b[39m\u001b[38;5;241m65\u001b[39m, r\u001b[38;5;241m=\u001b[39m\u001b[38;5;241m50\u001b[39m, b\u001b[38;5;241m=\u001b[39m\u001b[38;5;241m65\u001b[39m, t\u001b[38;5;241m=\u001b[39m\u001b[38;5;241m90\u001b[39m)\n\u001b[0;32m     36\u001b[0m )\n\u001b[1;32m---> 37\u001b[0m \u001b[43mfig\u001b[49m\u001b[38;5;241;43m.\u001b[39;49m\u001b[43mshow\u001b[49m\u001b[43m(\u001b[49m\u001b[43mrenderer\u001b[49m\u001b[38;5;241;43m=\u001b[39;49m\u001b[38;5;124;43m'\u001b[39;49m\u001b[38;5;124;43mvscode\u001b[39;49m\u001b[38;5;124;43m'\u001b[39;49m\u001b[43m)\u001b[49m\n",
      "File \u001b[1;32mc:\\Users\\mamich\\anaconda3\\envs\\cu_env\\Lib\\site-packages\\plotly\\basedatatypes.py:3410\u001b[0m, in \u001b[0;36mBaseFigure.show\u001b[1;34m(self, *args, **kwargs)\u001b[0m\n\u001b[0;32m   3377\u001b[0m \u001b[38;5;250m\u001b[39m\u001b[38;5;124;03m\"\"\"\u001b[39;00m\n\u001b[0;32m   3378\u001b[0m \u001b[38;5;124;03mShow a figure using either the default renderer(s) or the renderer(s)\u001b[39;00m\n\u001b[0;32m   3379\u001b[0m \u001b[38;5;124;03mspecified by the renderer argument\u001b[39;00m\n\u001b[1;32m   (...)\u001b[0m\n\u001b[0;32m   3406\u001b[0m \u001b[38;5;124;03mNone\u001b[39;00m\n\u001b[0;32m   3407\u001b[0m \u001b[38;5;124;03m\"\"\"\u001b[39;00m\n\u001b[0;32m   3408\u001b[0m \u001b[38;5;28;01mimport\u001b[39;00m \u001b[38;5;21;01mplotly\u001b[39;00m\u001b[38;5;21;01m.\u001b[39;00m\u001b[38;5;21;01mio\u001b[39;00m \u001b[38;5;28;01mas\u001b[39;00m \u001b[38;5;21;01mpio\u001b[39;00m\n\u001b[1;32m-> 3410\u001b[0m \u001b[38;5;28;01mreturn\u001b[39;00m \u001b[43mpio\u001b[49m\u001b[38;5;241;43m.\u001b[39;49m\u001b[43mshow\u001b[49m\u001b[43m(\u001b[49m\u001b[38;5;28;43mself\u001b[39;49m\u001b[43m,\u001b[49m\u001b[43m \u001b[49m\u001b[38;5;241;43m*\u001b[39;49m\u001b[43margs\u001b[49m\u001b[43m,\u001b[49m\u001b[43m \u001b[49m\u001b[38;5;241;43m*\u001b[39;49m\u001b[38;5;241;43m*\u001b[39;49m\u001b[43mkwargs\u001b[49m\u001b[43m)\u001b[49m\n",
      "File \u001b[1;32mc:\\Users\\mamich\\anaconda3\\envs\\cu_env\\Lib\\site-packages\\plotly\\io\\_renderers.py:398\u001b[0m, in \u001b[0;36mshow\u001b[1;34m(fig, renderer, validate, **kwargs)\u001b[0m\n\u001b[0;32m    393\u001b[0m     \u001b[38;5;28;01mif\u001b[39;00m \u001b[38;5;129;01mnot\u001b[39;00m nbformat \u001b[38;5;129;01mor\u001b[39;00m Version(nbformat\u001b[38;5;241m.\u001b[39m__version__) \u001b[38;5;241m<\u001b[39m Version(\u001b[38;5;124m\"\u001b[39m\u001b[38;5;124m4.2.0\u001b[39m\u001b[38;5;124m\"\u001b[39m):\n\u001b[0;32m    394\u001b[0m         \u001b[38;5;28;01mraise\u001b[39;00m \u001b[38;5;167;01mValueError\u001b[39;00m(\n\u001b[0;32m    395\u001b[0m             \u001b[38;5;124m\"\u001b[39m\u001b[38;5;124mMime type rendering requires nbformat>=4.2.0 but it is not installed\u001b[39m\u001b[38;5;124m\"\u001b[39m\n\u001b[0;32m    396\u001b[0m         )\n\u001b[1;32m--> 398\u001b[0m     \u001b[43mipython_display\u001b[49m\u001b[38;5;241;43m.\u001b[39;49m\u001b[43mdisplay\u001b[49m\u001b[43m(\u001b[49m\u001b[43mbundle\u001b[49m\u001b[43m,\u001b[49m\u001b[43m \u001b[49m\u001b[43mraw\u001b[49m\u001b[38;5;241;43m=\u001b[39;49m\u001b[38;5;28;43;01mTrue\u001b[39;49;00m\u001b[43m)\u001b[49m\n\u001b[0;32m    400\u001b[0m \u001b[38;5;66;03m# external renderers\u001b[39;00m\n\u001b[0;32m    401\u001b[0m renderers\u001b[38;5;241m.\u001b[39m_perform_external_rendering(fig_dict, renderers_string\u001b[38;5;241m=\u001b[39mrenderer, \u001b[38;5;241m*\u001b[39m\u001b[38;5;241m*\u001b[39mkwargs)\n",
      "File \u001b[1;32mc:\\Users\\mamich\\anaconda3\\envs\\cu_env\\Lib\\site-packages\\IPython\\core\\display_functions.py:296\u001b[0m, in \u001b[0;36mdisplay\u001b[1;34m(include, exclude, metadata, transient, display_id, raw, clear, *objs, **kwargs)\u001b[0m\n\u001b[0;32m    294\u001b[0m \u001b[38;5;28;01mfor\u001b[39;00m obj \u001b[38;5;129;01min\u001b[39;00m objs:\n\u001b[0;32m    295\u001b[0m     \u001b[38;5;28;01mif\u001b[39;00m raw:\n\u001b[1;32m--> 296\u001b[0m         \u001b[43mpublish_display_data\u001b[49m\u001b[43m(\u001b[49m\u001b[43mdata\u001b[49m\u001b[38;5;241;43m=\u001b[39;49m\u001b[43mobj\u001b[49m\u001b[43m,\u001b[49m\u001b[43m \u001b[49m\u001b[43mmetadata\u001b[49m\u001b[38;5;241;43m=\u001b[39;49m\u001b[43mmetadata\u001b[49m\u001b[43m,\u001b[49m\u001b[43m \u001b[49m\u001b[38;5;241;43m*\u001b[39;49m\u001b[38;5;241;43m*\u001b[39;49m\u001b[43mkwargs\u001b[49m\u001b[43m)\u001b[49m\n\u001b[0;32m    297\u001b[0m     \u001b[38;5;28;01melse\u001b[39;00m:\n\u001b[0;32m    298\u001b[0m         format_dict, md_dict \u001b[38;5;241m=\u001b[39m \u001b[38;5;28mformat\u001b[39m(obj, include\u001b[38;5;241m=\u001b[39minclude, exclude\u001b[38;5;241m=\u001b[39mexclude)\n",
      "File \u001b[1;32mc:\\Users\\mamich\\anaconda3\\envs\\cu_env\\Lib\\site-packages\\IPython\\core\\display_functions.py:93\u001b[0m, in \u001b[0;36mpublish_display_data\u001b[1;34m(data, metadata, source, transient, **kwargs)\u001b[0m\n\u001b[0;32m     90\u001b[0m \u001b[38;5;28;01mif\u001b[39;00m transient:\n\u001b[0;32m     91\u001b[0m     kwargs[\u001b[38;5;124m'\u001b[39m\u001b[38;5;124mtransient\u001b[39m\u001b[38;5;124m'\u001b[39m] \u001b[38;5;241m=\u001b[39m transient\n\u001b[1;32m---> 93\u001b[0m \u001b[43mdisplay_pub\u001b[49m\u001b[38;5;241;43m.\u001b[39;49m\u001b[43mpublish\u001b[49m\u001b[43m(\u001b[49m\n\u001b[0;32m     94\u001b[0m \u001b[43m    \u001b[49m\u001b[43mdata\u001b[49m\u001b[38;5;241;43m=\u001b[39;49m\u001b[43mdata\u001b[49m\u001b[43m,\u001b[49m\n\u001b[0;32m     95\u001b[0m \u001b[43m    \u001b[49m\u001b[43mmetadata\u001b[49m\u001b[38;5;241;43m=\u001b[39;49m\u001b[43mmetadata\u001b[49m\u001b[43m,\u001b[49m\n\u001b[0;32m     96\u001b[0m \u001b[43m    \u001b[49m\u001b[38;5;241;43m*\u001b[39;49m\u001b[38;5;241;43m*\u001b[39;49m\u001b[43mkwargs\u001b[49m\n\u001b[0;32m     97\u001b[0m \u001b[43m\u001b[49m\u001b[43m)\u001b[49m\n",
      "File \u001b[1;32mc:\\Users\\mamich\\anaconda3\\envs\\cu_env\\Lib\\site-packages\\ipykernel\\zmqshell.py:130\u001b[0m, in \u001b[0;36mZMQDisplayPublisher.publish\u001b[1;34m(self, data, metadata, transient, update)\u001b[0m\n\u001b[0;32m    127\u001b[0m     \u001b[38;5;28;01mif\u001b[39;00m msg \u001b[38;5;129;01mis\u001b[39;00m \u001b[38;5;28;01mNone\u001b[39;00m:\n\u001b[0;32m    128\u001b[0m         \u001b[38;5;28;01mreturn\u001b[39;00m  \u001b[38;5;66;03m# type:ignore[unreachable]\u001b[39;00m\n\u001b[1;32m--> 130\u001b[0m \u001b[38;5;28;43mself\u001b[39;49m\u001b[38;5;241;43m.\u001b[39;49m\u001b[43msession\u001b[49m\u001b[38;5;241;43m.\u001b[39;49m\u001b[43msend\u001b[49m\u001b[43m(\u001b[49m\n\u001b[0;32m    131\u001b[0m \u001b[43m    \u001b[49m\u001b[38;5;28;43mself\u001b[39;49m\u001b[38;5;241;43m.\u001b[39;49m\u001b[43mpub_socket\u001b[49m\u001b[43m,\u001b[49m\n\u001b[0;32m    132\u001b[0m \u001b[43m    \u001b[49m\u001b[43mmsg\u001b[49m\u001b[43m,\u001b[49m\n\u001b[0;32m    133\u001b[0m \u001b[43m    \u001b[49m\u001b[43mident\u001b[49m\u001b[38;5;241;43m=\u001b[39;49m\u001b[38;5;28;43mself\u001b[39;49m\u001b[38;5;241;43m.\u001b[39;49m\u001b[43mtopic\u001b[49m\u001b[43m,\u001b[49m\n\u001b[0;32m    134\u001b[0m \u001b[43m\u001b[49m\u001b[43m)\u001b[49m\n",
      "File \u001b[1;32mc:\\Users\\mamich\\anaconda3\\envs\\cu_env\\Lib\\site-packages\\jupyter_client\\session.py:852\u001b[0m, in \u001b[0;36mSession.send\u001b[1;34m(self, stream, msg_or_type, content, parent, ident, buffers, track, header, metadata)\u001b[0m\n\u001b[0;32m    850\u001b[0m \u001b[38;5;28;01mif\u001b[39;00m \u001b[38;5;28mself\u001b[39m\u001b[38;5;241m.\u001b[39madapt_version:\n\u001b[0;32m    851\u001b[0m     msg \u001b[38;5;241m=\u001b[39m adapt(msg, \u001b[38;5;28mself\u001b[39m\u001b[38;5;241m.\u001b[39madapt_version)\n\u001b[1;32m--> 852\u001b[0m to_send \u001b[38;5;241m=\u001b[39m \u001b[38;5;28;43mself\u001b[39;49m\u001b[38;5;241;43m.\u001b[39;49m\u001b[43mserialize\u001b[49m\u001b[43m(\u001b[49m\u001b[43mmsg\u001b[49m\u001b[43m,\u001b[49m\u001b[43m \u001b[49m\u001b[43mident\u001b[49m\u001b[43m)\u001b[49m\n\u001b[0;32m    853\u001b[0m to_send\u001b[38;5;241m.\u001b[39mextend(buffers)\n\u001b[0;32m    854\u001b[0m longest \u001b[38;5;241m=\u001b[39m \u001b[38;5;28mmax\u001b[39m([\u001b[38;5;28mlen\u001b[39m(s) \u001b[38;5;28;01mfor\u001b[39;00m s \u001b[38;5;129;01min\u001b[39;00m to_send])\n",
      "File \u001b[1;32mc:\\Users\\mamich\\anaconda3\\envs\\cu_env\\Lib\\site-packages\\jupyter_client\\session.py:747\u001b[0m, in \u001b[0;36mSession.serialize\u001b[1;34m(self, msg, ident)\u001b[0m\n\u001b[0;32m    744\u001b[0m     to_send\u001b[38;5;241m.\u001b[39mappend(ident)\n\u001b[0;32m    745\u001b[0m to_send\u001b[38;5;241m.\u001b[39mappend(DELIM)\n\u001b[1;32m--> 747\u001b[0m signature \u001b[38;5;241m=\u001b[39m \u001b[38;5;28;43mself\u001b[39;49m\u001b[38;5;241;43m.\u001b[39;49m\u001b[43msign\u001b[49m\u001b[43m(\u001b[49m\u001b[43mreal_message\u001b[49m\u001b[43m)\u001b[49m\n\u001b[0;32m    748\u001b[0m to_send\u001b[38;5;241m.\u001b[39mappend(signature)\n\u001b[0;32m    750\u001b[0m to_send\u001b[38;5;241m.\u001b[39mextend(real_message)\n",
      "File \u001b[1;32mc:\\Users\\mamich\\anaconda3\\envs\\cu_env\\Lib\\site-packages\\jupyter_client\\session.py:687\u001b[0m, in \u001b[0;36mSession.sign\u001b[1;34m(self, msg_list)\u001b[0m\n\u001b[0;32m    685\u001b[0m h \u001b[38;5;241m=\u001b[39m \u001b[38;5;28mself\u001b[39m\u001b[38;5;241m.\u001b[39mauth\u001b[38;5;241m.\u001b[39mcopy()\n\u001b[0;32m    686\u001b[0m \u001b[38;5;28;01mfor\u001b[39;00m m \u001b[38;5;129;01min\u001b[39;00m msg_list:\n\u001b[1;32m--> 687\u001b[0m     \u001b[43mh\u001b[49m\u001b[38;5;241;43m.\u001b[39;49m\u001b[43mupdate\u001b[49m\u001b[43m(\u001b[49m\u001b[43mm\u001b[49m\u001b[43m)\u001b[49m\n\u001b[0;32m    688\u001b[0m \u001b[38;5;28;01mreturn\u001b[39;00m h\u001b[38;5;241m.\u001b[39mhexdigest()\u001b[38;5;241m.\u001b[39mencode()\n",
      "File \u001b[1;32mc:\\Users\\mamich\\anaconda3\\envs\\cu_env\\Lib\\hmac.py:120\u001b[0m, in \u001b[0;36mHMAC.update\u001b[1;34m(self, msg)\u001b[0m\n\u001b[0;32m    118\u001b[0m \u001b[38;5;250m\u001b[39m\u001b[38;5;124;03m\"\"\"Feed data from msg into this hashing object.\"\"\"\u001b[39;00m\n\u001b[0;32m    119\u001b[0m inst \u001b[38;5;241m=\u001b[39m \u001b[38;5;28mself\u001b[39m\u001b[38;5;241m.\u001b[39m_hmac \u001b[38;5;129;01mor\u001b[39;00m \u001b[38;5;28mself\u001b[39m\u001b[38;5;241m.\u001b[39m_inner\n\u001b[1;32m--> 120\u001b[0m \u001b[43minst\u001b[49m\u001b[38;5;241;43m.\u001b[39;49m\u001b[43mupdate\u001b[49m\u001b[43m(\u001b[49m\u001b[43mmsg\u001b[49m\u001b[43m)\u001b[49m\n",
      "\u001b[1;31mKeyboardInterrupt\u001b[0m: "
     ]
    }
   ],
   "source": [
    "import numpy as np\n",
    "import plotly.graph_objects as go\n",
    "# Generate nicely looking random 3D-field\n",
    "\n",
    "\n",
    "X, Y = np.meshgrid(x, y)\n",
    "Z = crl_2d.T().get()*1e6\n",
    "import plotly.graph_objects as go\n",
    "from plotly.subplots import make_subplots\n",
    "\n",
    "fig = make_subplots(rows=1, cols=1,\n",
    "                    specs=[[{'is_3d': True}]],\n",
    "                    )\n",
    "\n",
    "fig.add_trace(go.Surface(x=X, y=Y, z=Z, colorbar_x=-0.07))\n",
    "# fig.add_trace(go.Surface(x=x, y=y, z=Z, surfacecolor=X**2 + Y**2 + Z**2), 1, 2)\n",
    "fig.update_layout(\n",
    "    width=800,\n",
    "    height=800\n",
    ")\n",
    "xGrid, yGrid = np.meshgrid(x, y)\n",
    "xRevGrid, yRevGrid = np.meshgrid(y, x)\n",
    "line_marker = dict(color='black', width=2)\n",
    "\n",
    "## add gridlines in one direction using mesh grid\n",
    "for i, j, k in zip(xGrid, yGrid, Z):\n",
    "    fig.add_trace(go.Scatter3d(x=i, y=j, z=k, mode='lines', line=line_marker, showlegend=False)) # this works\n",
    "\n",
    "## add gridlines in perpendicular direction using reverse mesh grid\n",
    "for i, j, k in zip(xRevGrid, yRevGrid, Z.T):\n",
    "    fig.add_trace(go.Scatter3d(x=j, y=i, z=k, mode='lines', line=line_marker, showlegend=False)) # this doesn't work\n",
    "\n",
    "fig.update_layout(title='Mt Bruno Elevation', autosize=True,\n",
    "                  scene_camera_eye=dict(x=1.87, y=0.88, z=-0.64),\n",
    "                  margin=dict(l=65, r=50, b=65, t=90)\n",
    ")\n",
    "fig.show(renderer='vscode')"
   ]
  },
  {
   "cell_type": "code",
   "execution_count": null,
   "metadata": {},
   "outputs": [],
   "source": [
    "fig.write_image('figure.png', scale=2)"
   ]
  },
  {
   "cell_type": "code",
   "execution_count": 4,
   "metadata": {},
   "outputs": [
    {
     "data": {
      "image/png": "[encoded data removed]",
      "text/plain": [
       "<Figure size 640x480 with 2 Axes>"
      ]
     },
     "metadata": {},
     "output_type": "display_data"
    }
   ],
   "source": [
    "import matplotlib.pyplot as plt\n",
    "\n",
    "T_arr = crl_2d.T()\n",
    "try:\n",
    "    T = T_arr.get()\n",
    "    T2 = crl1D.T().get()\n",
    "except:\n",
    "    T = -T_arr\n",
    "    T2 = -crl2D.T()\n",
    "\n",
    "\n",
    "fig, ax = plt.subplots(subplot_kw={\"projection\": \"3d\"})\n",
    "# Make data.\n",
    "X__, Y__ = np.meshgrid(x, y)\n",
    "Z__ = T\n",
    "\n",
    "# Plot the surface.\n",
    "surf = ax.plot_surface(X__, Y__, Z__, cmap=\"jet\",\n",
    "                       linewidth=0, antialiased=False)\n",
    "\n",
    "\n",
    "ax.zaxis.set_major_formatter('{x:.02f}')\n",
    "\n",
    "# Add a color bar which maps values to colors.\n",
    "fig.colorbar(surf, shrink=0.5, aspect=5)\n",
    "\n",
    "plt.show()"
   ]
  },
  {
   "cell_type": "code",
   "execution_count": null,
   "metadata": {},
   "outputs": [],
   "source": [
    "import matplotlib.pyplot as plt\n",
    "\n",
    "X, Y = np.meshgrid(x, y)\n",
    "Z = crl_2d.T().get()*1e6\n",
    "\n",
    "fig1,ax1 = plt.subplots(1, 1)\n",
    "# fig1.set_figheight(15)\n",
    "# fig1.set_figwidth(15)\n",
    "colbar = plt.pcolormesh(X, Y, Z)\n",
    "cbar = fig1.colorbar(colbar)\n",
    "cbar.set_label('$z$, μm')\n",
    "\n",
    "# plt.title(\"Intensity distribution at the focus (an ideal CRL)\")\n",
    "# plt.axvline(x = 0, color = 'g', alpha=0.8, linewidth=0.5)\n",
    "# plt.plot([x_cutted[0]*1e6, x_cutted[-1]*1e6], [focus*1e3, focus*1e3], 'g', alpha=0.8, linewidth=0.5)\n",
    "# plt.plot([(dx_max*1e-6 - fwhm/2)*1e6, (dx_max*1e-6 + fwhm/2)*1e6], [(dz_max*1e-3 + focus)*1e3, (dz_max*1e-3 + focus)*1e3], marker='|', color=\"blue\", linewidth=0.5)\n",
    "plt.xlabel(\"$x$, μm\")\n",
    "plt.ylabel(\"$y$, μm\")\n",
    "plt.ylim(-50, 50)\n",
    "# plt.savefig(\"100nm_2d\", dpi=2400);"
   ]
  },
  {
   "cell_type": "code",
   "execution_count": null,
   "metadata": {},
   "outputs": [],
   "source": [
    "X, Y = np.meshgrid(x, y)\n",
    "# Z = crl_2d.T().get()*1e6\n",
    "\n",
    "fig1,ax1 = plt.subplots(1, 1)\n",
    "# fig1.set_figheight(15)\n",
    "# fig1.set_figwidth(15)\n",
    "colbar = plt.pcolormesh(X, Y, np.gradient(Z, axis=0))\n",
    "cbar = fig1.colorbar(colbar)\n",
    "cbar.set_label('$z$, μm')\n",
    "\n",
    "# plt.title(\"Intensity distribution at the focus (an ideal CRL)\")\n",
    "# plt.axvline(x = 0, color = 'g', alpha=0.8, linewidth=0.5)\n",
    "# plt.plot([x_cutted[0]*1e6, x_cutted[-1]*1e6], [focus*1e3, focus*1e3], 'g', alpha=0.8, linewidth=0.5)\n",
    "# plt.plot([(dx_max*1e-6 - fwhm/2)*1e6, (dx_max*1e-6 + fwhm/2)*1e6], [(dz_max*1e-3 + focus)*1e3, (dz_max*1e-3 + focus)*1e3], marker='|', color=\"blue\", linewidth=0.5)\n",
    "plt.xlabel(\"$x$, μm\")\n",
    "plt.ylabel(\"$y$, μm\")\n",
    "plt.ylim(-50, 50)\n",
    "# plt.savefig(\"100nm_2d\", dpi=2400);"
   ]
  },
  {
   "cell_type": "markdown",
   "metadata": {},
   "source": [
    "Численный расчет фокусного параметра в окрестности eps"
   ]
  },
  {
   "cell_type": "code",
   "execution_count": null,
   "metadata": {},
   "outputs": [],
   "source": [
    "I_distr_max, I_max, dz_max, dy_max, dx_max, fwhm_y, fwhm_x, focus_images, z_arr, div_ang_x, div_ang_y, x_cutted, y_cutted\\\n",
    "     = crl_2d.focus_params(n_dots=200, eps=5e-3, ny_cut=150, nx_cut=150)\n",
    "print(f\" dz = {dz_max} mm \\n dx = {dx_max} μm \\n dy = {dy_max} μm \\n fwhm_x = {fwhm_x*1e6} μm \\n fwhm_y = {fwhm_y*1e6} μm \\n I_max = {I_max} rel. un. \\n div_ang_x = {div_ang_x} \\n div_ang_y = {div_ang_y}\")\n",
    "\n",
    "# print(f\" dz = {dz_max:.3f} mm \\n dx = {dx_max:.3f} μm \\n dy = {dy_max:.3f} μm \\n fwhm_x = {fwhm_x*1e6:.3f} μm \\n fwhm_y = {fwhm_y*1e6:.3f} μm \\n I_max = {I_max:.1f} rel. un. \\n div_ang_x = {div_ang_x} \\n div_ang_y = {div_ang_y}\")"
   ]
  },
  {
   "cell_type": "code",
   "execution_count": null,
   "metadata": {},
   "outputs": [],
   "source": [
    "z_arr[2] - z_arr[1]"
   ]
  },
  {
   "cell_type": "code",
   "execution_count": null,
   "metadata": {},
   "outputs": [],
   "source": [
    "dz_arr = z_arr-focus\n",
    "index_zero = int(np.where(dz_arr==0)[0])\n",
    "I_distr_zero = focus_images[index_zero]"
   ]
  },
  {
   "cell_type": "code",
   "execution_count": null,
   "metadata": {},
   "outputs": [],
   "source": [
    "focus*1e3+dz_max"
   ]
  },
  {
   "cell_type": "code",
   "execution_count": null,
   "metadata": {},
   "outputs": [],
   "source": [
    "import matplotlib.pyplot as plt\n",
    "X, Y = np.meshgrid(x_cutted, y_cutted)\n",
    "Z = I_distr_max.get()\n",
    "# Z = I_distr_zero\n",
    "\n",
    "fig1,ax1 = plt.subplots(1, 1)\n",
    "# fig1.set_figheight(15)\n",
    "# fig1.set_figwidth(15)\n",
    "colbar = plt.pcolormesh(X, Y, Z, cmap='inferno')\n",
    "cbar = fig1.colorbar(colbar)\n",
    "cbar.set_label('$I$, a.u.')\n",
    "\n",
    "# plt.title(\"Intensity distribution at the focus (an ideal CRL)\")\n",
    "# plt.axvline(x = 0, color = 'g', alpha=0.8, linewidth=0.5)\n",
    "# plt.plot([x_cutted[0]*1e6, x_cutted[-1]*1e6], [focus*1e3, focus*1e3], 'g', alpha=0.8, linewidth=0.5)\n",
    "# plt.plot([(dx_max*1e-6 - fwhm/2)*1e6, (dx_max*1e-6 + fwhm/2)*1e6], [(dz_max*1e-3 + focus)*1e3, (dz_max*1e-3 + focus)*1e3], marker='|', color=\"blue\", linewidth=0.5)\n",
    "plt.xlabel(\"$y$, μm\")\n",
    "plt.ylabel(\"$x$, μm\")\n",
    "plt.savefig(\"ideal_2d\", dpi=2400);"
   ]
  },
  {
   "cell_type": "code",
   "execution_count": null,
   "metadata": {},
   "outputs": [],
   "source": [
    "import plotly.graph_objects as go\n",
    "# Create and show figure\n",
    "fig = go.Figure(go.Heatmap(\n",
    "    z=I_distr_max.get(), x=x_cutted, y=y_cutted, colorscale=\"Inferno\"\n",
    "    # colorbar=dict(\n",
    "    #     x=0.2,\n",
    "    #     xref=\"container\",\n",
    "    #     title=\"Surface Heat\"\n",
    "    # )\n",
    "))\n",
    "fig.update_layout(\n",
    "    width=1200,\n",
    "    height=1200\n",
    ")\n",
    "fig.write_image(\"images/fig1.png\", dpi=1200)\n",
    "fig.show()"
   ]
  },
  {
   "cell_type": "markdown",
   "metadata": {},
   "source": [
    "Распределение интенсивности I(x, y) в зависимости от Z"
   ]
  },
  {
   "cell_type": "code",
   "execution_count": null,
   "metadata": {},
   "outputs": [],
   "source": [
    "volume = focus_images.get()\n",
    "r, c = volume[0].shape\n",
    "\n",
    "# Define frames\n",
    "import plotly.graph_objects as go\n",
    "nb_frames = len(volume)\n",
    "\n",
    "\n",
    "layout = go.Layout(xaxis=go.layout.XAxis(\n",
    "    title=go.layout.xaxis.Title(\n",
    "        text='x, μm',\n",
    "    )),\n",
    "yaxis=go.layout.YAxis(\n",
    "    title=go.layout.yaxis.Title(\n",
    "        text='y, μm',\n",
    "    )\n",
    "))\n",
    "\n",
    "\n",
    "fig = go.Figure(layout=layout, frames=[go.Frame(data=go.Heatmap(\n",
    "    z=volume[k], x=x_cutted, y=y_cutted, colorscale=\"hot\", zmin=0, zmax=np.max(volume)\n",
    "    ),\n",
    "    name=str(k) # you need to name the frame for the animation to behave properly\n",
    "    )\n",
    "    for k in range(nb_frames)])\n",
    "\n",
    "# Add data to be displayed before animation starts\n",
    "fig.add_trace(go.Heatmap(\n",
    "    z=volume[0], x=x_cutted, y=y_cutted,\n",
    "    colorscale=\"hot\", zmin=0, zmax=0,\n",
    "    colorbar=dict(thickness=20, ticklen=4, title=\"I, rel. un.\")\n",
    "    ))\n",
    "\n",
    "\n",
    "def frame_args(duration):\n",
    "    return {\n",
    "            \"frame\": {\"duration\": duration},\n",
    "            \"mode\": \"immediate\",\n",
    "            \"fromcurrent\": True,\n",
    "            \"transition\": {\"duration\": duration, \"easing\": \"linear\"},\n",
    "        }\n",
    "\n",
    "sliders = [\n",
    "            {\n",
    "                \"pad\": {\"b\": 10, \"t\": 60},\n",
    "                \"len\": 0.9,\n",
    "                \"x\": 0.1,\n",
    "                \"y\": 0,\n",
    "                \"steps\": [\n",
    "                    {\n",
    "                        \"args\": [[f.name], frame_args(0)],\n",
    "                        \"label\": str(\"{:.2f}\".format(1000*(float(z_arr[k])-focus))),\n",
    "                        \"method\": \"animate\",\n",
    "                    }\n",
    "                    for k, f in enumerate(fig.frames)\n",
    "                ],\n",
    "            }\n",
    "        ]\n",
    "\n",
    "\n",
    "# Layout\n",
    "fig.update_layout(\n",
    "         title='Focal spot',\n",
    "         width=1200,\n",
    "         height=1200,\n",
    "         updatemenus = [\n",
    "            {\n",
    "                \"buttons\": [\n",
    "                    {\n",
    "                        \"args\": [None, frame_args(50)],\n",
    "                        \"label\": \"&#9654;\", # play symbol\n",
    "                        \"method\": \"animate\",\n",
    "                    },\n",
    "                    {\n",
    "                        \"args\": [[None], frame_args(0)],\n",
    "                        \"label\": \"&#9724;\", # pause symbol\n",
    "                        \"method\": \"animate\",\n",
    "                    },\n",
    "                ],\n",
    "                \"direction\": \"left\",\n",
    "                \"pad\": {\"r\": 10, \"t\": 70},\n",
    "                \"type\": \"buttons\",\n",
    "                \"x\": 0.1,\n",
    "                \"y\": 0,\n",
    "            }\n",
    "         ],\n",
    "         sliders=sliders\n",
    ")\n",
    "\n",
    "fig.show()"
   ]
  },
  {
   "cell_type": "markdown",
   "metadata": {},
   "source": [
    "Распределение интесивности при заданном Z"
   ]
  },
  {
   "cell_type": "code",
   "execution_count": null,
   "metadata": {},
   "outputs": [],
   "source": [
    "# %matplotlib widget\n",
    "import matplotlib.pyplot as plt\n",
    "from matplotlib.widgets import Slider\n",
    "\n",
    "# Создаем массив данных (можно использовать свои данные)\n",
    "# data = focus_images[np.max(np.where(z_arr-focus_2d<-1.5e-3))].T\n",
    "data = I_distr_max\n",
    "# Создаем начальный график по индексу 0\n",
    "fig, ax = plt.subplots()\n",
    "l, = ax.plot(data[0])\n",
    "ax.set_ylim(0, np.max(data))\n",
    "ax.set_xlim(y_cutted[0], y_cutted[-1])\n",
    "ax.set_xlim(-4.5, 4.5)\n",
    "# Создаем слайдер\n",
    "axcolor = 'lightgoldenrodyellow'\n",
    "slider_ax = plt.axes([0.2, 0.02, 0.65, 0.03], facecolor=axcolor)\n",
    "slider = Slider(slider_ax, 'Index', 0, len(data)-1, valinit=0, valstep=1)\n",
    "\n",
    "# Функция обновления графика по индексу\n",
    "def update(val):\n",
    "    index = int(slider.val)\n",
    "    l.set_ydata(data[index])\n",
    "    l.set_xdata(y_cutted)\n",
    "    ax.set_title(\"$x$ = \"+ f\"{(x_cutted[index]):.1f} μм\")\n",
    "    plt.draw()\n",
    "\n",
    "slider.on_changed(update)\n",
    "\n",
    "plt.show()"
   ]
  },
  {
   "cell_type": "code",
   "execution_count": null,
   "metadata": {},
   "outputs": [],
   "source": []
  }
 ],
 "metadata": {
  "kernelspec": {
   "display_name": "cu_env",
   "language": "python",
   "name": "python3"
  },
  "language_info": {
   "codemirror_mode": {
    "name": "ipython",
    "version": 3
   },
   "file_extension": ".py",
   "mimetype": "text/x-python",
   "name": "python",
   "nbconvert_exporter": "python",
   "pygments_lexer": "ipython3",
   "version": "3.12.7"
  }
 },
 "nbformat": 4,
 "nbformat_minor": 2
}
