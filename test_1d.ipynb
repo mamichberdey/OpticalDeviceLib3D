{
 "cells": [
  {
   "cell_type": "markdown",
   "metadata": {},
   "source": [
    "Инициализация 1d-сетки"
   ]
  },
  {
   "cell_type": "code",
   "execution_count": null,
   "metadata": {},
   "outputs": [],
   "source": [
    "import numpy as np\n",
    "import opticaldevicelib_1d as od_1d\n",
    "od_1d.OpticalDevice.init_values(new_dx=5e-10, new_Nx=2**20, gpu_use=True)\n",
    "print(f\"границы поля X +- {od_1d.OpticalDevice.Nx * od_1d.OpticalDevice.dx * 1e6} мкм\")"
   ]
  },
  {
   "cell_type": "markdown",
   "metadata": {},
   "source": [
    "Инициализация линзы для 1d-сетки"
   ]
  },
  {
   "cell_type": "code",
   "execution_count": null,
   "metadata": {},
   "outputs": [],
   "source": [
    "p = od_1d.PointSource(z=100, En=12) \n",
    "E_ps1 = p.E() / p.E() # плоская волна\n",
    "\n",
    "N_gl = 40\n",
    "Copy_flag = True\n",
    "arr_len = 2 if Copy_flag else 2*N_gl\n",
    "\n",
    "phases = 2*np.pi*np.random.rand(arr_len)\n",
    "w_s = (np.random.rand(arr_len)-0.5)*np.pi/180*0\n",
    "s_s  = (np.random.rand(arr_len)-0.5)*2e-6*0\n",
    "\n",
    "\n",
    "crl = od_1d.CRL(lam=p.lam, arr_start=E_ps1, z=0,\\\n",
    "                 R=6.25e-6, A=50e-6, d=2e-6, N_lens=N_gl, mol=\"Si\", dens=2.33)\n",
    "\n",
    "crlm = od_1d.CRLm(lam=p.lam, arr_start=E_ps1, z=0, \\\n",
    "                   R=6.25e-6, A=50e-6, d=2e-6, N_lens=N_gl, mol=\"Si\", dens=2.33, \\\n",
    "                   copy=Copy_flag, arr_phase=phases, arr_s=s_s, arr_w=w_s, b=-1e-6, m=3e8)\n",
    "\n",
    "# crlm = crl\n",
    "focus = crlm.focus()\n",
    "crlm.set_z(z=focus)\n",
    "print(f\"фокусное расстояние = {focus * 1e3 :.3f} мм\")\n",
    "print(focus)\n",
    "print(f\"оценка макс. числа линз = {int(crlm.Lc() * np.pi / 2)}\")"
   ]
  },
  {
   "cell_type": "markdown",
   "metadata": {},
   "source": [
    "Построение профиля поверхности элемента (при необходимости)"
   ]
  },
  {
   "cell_type": "code",
   "execution_count": null,
   "metadata": {},
   "outputs": [],
   "source": [
    "# %matplotlib widget\n",
    "import matplotlib.pyplot as plt\n",
    "T_arr = crlm.T().get()\n",
    "x_arr = crlm.x.get()\n",
    "plt.plot(x_arr*1e6, crl.T().get()*1e6, label=\"ideal\")\n",
    "plt.plot(x_arr*1e6, T_arr*1e6, label=\"1 μm\")\n",
    "plt.xlim(-50, 50)\n",
    "plt.grid()\n",
    "# plt.legend()\n",
    "plt.xlabel(\"$x$, μm\")\n",
    "plt.ylabel(\"$z$, μm\")\n",
    "plt.savefig(\"shape_elem\", dpi=1200);\n",
    "plt.show();"
   ]
  },
  {
   "cell_type": "code",
   "execution_count": null,
   "metadata": {},
   "outputs": [],
   "source": [
    "I_distr_max, I_max, dz_max, dx_max, fwhm, focus_image, z_arr, div_ang, x_cutted = crlm.focus_params(n_dots=1000, eps=3e-3, n_cut=700, focus=focus)\n",
    "print(z_arr[1] - z_arr[2])\n",
    "print((focus+dz_max*1e-3)*1e3)\n",
    "# print(f\" dz = {dz_max:.3f} mm \\n dx = {dx_max:.3f} μm \\n fwhm = {fwhm*1e6:.3f} μm \\n I_max = {I_max:.1f} rel. un. \\n div_ang = {div_ang}\")\n",
    "print(f\" dz = {dz_max} mm \\n dx = {dx_max} μm \\n fwhm = {fwhm*1e6} μm \\n I_max = {I_max} rel. un. \\n div_ang = {div_ang}\")\n",
    "I_distr_max, I_max, dz_max, dx_max, fwhm, focus_image, z_arr, div_ang, x_cutted = crlm.focus_params(n_dots=1000, eps=3e-3, n_cut=700, focus=focus+dz_max*1e-3)\n",
    "\n",
    "X, Y = np.meshgrid(x_cutted*1e6, z_arr*1000)\n",
    "Z = focus_image\n",
    "\n",
    "fig1,ax1 = plt.subplots(1, 1)\n",
    "# fig1.set_figheight(15)\n",
    "# fig1.set_figwidth(15)\n",
    "colbar = plt.pcolormesh(X, Y, Z, cmap='inferno')\n",
    "cbar = fig1.colorbar(colbar)\n",
    "cbar.set_label('$I$, a.u.')\n",
    "\n",
    "# plt.title(\"Intensity distribution at the focus (an ideal CRL)\")\n",
    "# plt.axvline(x = 0, color = 'g', alpha=0.8, linewidth=0.5)\n",
    "# plt.plot([x_cutted[0]*1e6, x_cutted[-1]*1e6], [focus*1e3, focus*1e3], 'g', alpha=0.8, linewidth=0.5)\n",
    "# plt.plot([(dx_max*1e-6 - fwhm/2)*1e6, (dx_max*1e-6 + fwhm/2)*1e6], [(dz_max*1e-3 + focus)*1e3, (dz_max*1e-3 + focus)*1e3], marker='|', color=\"blue\", linewidth=0.5)\n",
    "plt.xlabel(\"$x$, μm\")\n",
    "plt.ylabel(\"$z$, mm\")\n",
    "plt.savefig(\"1mkm\", dpi=2400);"
   ]
  },
  {
   "cell_type": "code",
   "execution_count": null,
   "metadata": {},
   "outputs": [],
   "source": [
    "%matplotlib widget\n",
    "import matplotlib.pyplot as plt\n",
    "from matplotlib.widgets import Slider\n",
    "import numpy as np\n",
    "\n",
    "# Создаем массив данных (можно использовать свои данные)\n",
    "data = Z\n",
    "\n",
    "# Создаем начальный график по индексу 0\n",
    "fig, ax = plt.subplots()\n",
    "l, = ax.plot(data[0])\n",
    "ax.set_ylim(0, np.max(data))\n",
    "ax.set_xlim(x_cutted[0], x_cutted[-1])\n",
    "# Создаем слайдер\n",
    "axcolor = 'lightgoldenrodyellow'\n",
    "slider_ax = plt.axes([0.2, 0.02, 0.65, 0.03], facecolor=axcolor)\n",
    "slider = Slider(slider_ax, 'Index', 0, len(data)-1, valinit=0, valstep=1)\n",
    "\n",
    "# Функция обновления графика по индексу\n",
    "def update(val):\n",
    "    index = int(slider.val)\n",
    "    l.set_ydata(data[index])\n",
    "    l.set_xdata(x_cutted)\n",
    "    ax.set_title(\"z = \"+ f\"{(z_arr[index] - focus)*1e3:.3f} мм\")\n",
    "    plt.draw()\n",
    "\n",
    "slider.on_changed(update)\n",
    "\n",
    "plt.show()"
   ]
  },
  {
   "cell_type": "markdown",
   "metadata": {},
   "source": [
    "Тест от энергии E и числа линз N"
   ]
  },
  {
   "cell_type": "code",
   "execution_count": null,
   "metadata": {},
   "outputs": [],
   "source": [
    "import cupy as cp\n",
    "n_cut = 100\n",
    "n_dots = 100\n",
    "\n",
    "Copy_flag = True\n",
    "arr_len = 2 if Copy_flag else 2*N_gl\n",
    "phases = 2*np.pi*np.random.rand(arr_len)\n",
    "w_s = (np.random.rand(arr_len)-0.5)*np.pi/180*0\n",
    "s_s  = (np.random.rand(arr_len)-0.5)*2e-6*0\n",
    "\n",
    "\n",
    "\n",
    "\n",
    "N_arr = np.arange(1, 100, 1)\n",
    "E_arr = np.arange(10, 51, 5)\n",
    "N_gl = 100\n",
    "\n",
    "result_I = list()\n",
    "result_I_m = list()\n",
    "result_I_i = list()\n",
    "\n",
    "for n in N_arr:\n",
    "    N_gl = n\n",
    "\n",
    "    p = od_1d.PointSource(z=100, En=15) \n",
    "    E_ps1 = p.E()/p.E()\n",
    "\n",
    "    \n",
    "    crl = od_1d.CRL(lam=p.lam, arr_start=E_ps1, z=0,\\\n",
    "                    R=6.25e-6, A=50e-6, d=2e-6, N_lens=N_gl, mol=\"Si\", dens=2.33)\n",
    "\n",
    "    crlm = od_1d.CRLm(lam=p.lam, arr_start=E_ps1, z=0, \\\n",
    "                    R=6.25e-6, A=50e-6, d=2e-6, N_lens=N_gl, mol=\"Si\", dens=2.33, \\\n",
    "                    copy=Copy_flag, arr_phase=phases, arr_s=s_s, arr_w=w_s, b=1e-7, m=3e8)\n",
    "    \n",
    "    \n",
    "    crlm_minus = od_1d.CRLm(lam=p.lam, arr_start=E_ps1, z=0, \\\n",
    "                    R=6.25e-6, A=50e-6, d=2e-6, N_lens=N_gl, mol=\"Si\", dens=2.33, \\\n",
    "                    copy=Copy_flag, arr_phase=phases, arr_s=s_s, arr_w=w_s, b=-1e-7, m=3e8)\n",
    "    \n",
    "\n",
    "    # crlm.betta = 0\n",
    "    crl.betta = 0 \n",
    "    # crlm_minus.betta = 0\n",
    "\n",
    "    focus = crlm.focus()\n",
    "\n",
    "    eps_ = focus / 2\n",
    "    \n",
    "    I_distr_max, I_max, dz_max, dx_max, fwhm, focus_image, z_arr, div_ang, x_cutted = crlm.focus_params(n_dots=n_dots, eps=eps_, n_cut=n_cut)\n",
    "    I_distr_max_i, I_max_i, dz_max_i, dx_max_i, fwhm_i, focus_image_i, z_arr_i, div_ang_i, x_cutted = crl.focus_params(n_dots=n_dots, eps=eps_, n_cut=n_cut)\n",
    "    I_distr_max_m, I_max_m, dz_max_m, dx_max_m, fwhm_m, focus_image_m, z_arr_m, div_ang_m, x_cutted = crlm_minus.focus_params(n_dots=n_dots, eps=eps_, n_cut=n_cut)\n",
    "\n",
    "    result_I_m.append([I_max_m, dz_max_m, fwhm_m, div_ang_m])\n",
    "    result_I.append([I_max, dz_max, fwhm, div_ang])\n",
    "    result_I_i.append([I_max_i, dz_max_i, fwhm_i, div_ang_i])\n",
    "    # cp._default_memory_pool.free_all_blocks()\n",
    "\n",
    "res_I = np.array(result_I).T\n",
    "res_I_i = np.array(result_I_i).T\n",
    "res_I_m = np.array(result_I_m).T"
   ]
  },
  {
   "cell_type": "code",
   "execution_count": null,
   "metadata": {},
   "outputs": [],
   "source": [
    "import matplotlib.pyplot as plt\n",
    "number = 0\n",
    "x_plot = N_arr\n",
    "# x_plot = E_arr\n",
    "# plt.plot(x_plot, res_I[number] / np.log(x_plot), label=\"параллельный слой +0.1 мкм\")\n",
    "plt.plot(x_plot, res_I_i[number], label=\"идеальная линза\")\n",
    "# plt.plot(x_plot, res_I_m[number] / x_plot /np.log(x_plot) , label=\"параллельный слой -0.1 мкм\")\n",
    "plt.legend()\n",
    "plt.yscale(\"log\")\n",
    "plt.xscale(\"log\")\n",
    "plt.grid()\n",
    "# plt.xlabel(\"Энергия, КэВ\")\n",
    "# plt.plot(x_plot, np.exp(-2*crl.k*crl.betta*x_plot*crl.d))\n",
    "print(crl.betta)\n",
    "plt.xlabel(\"число линз\")\n",
    "plt.title(f\"E = {p.En} кэв\")\n",
    "plt.ylabel([\"пиковая интенсивность\", \"смещение фокуса вдоль оси z, мм\", \"полуширина пучка в фокусе, мкм\", \"угол расходимости\"][number]);"
   ]
  },
  {
   "cell_type": "code",
   "execution_count": null,
   "metadata": {},
   "outputs": [],
   "source": [
    "plt.plot(x_plot, np.log10(np.exp(x_plot**0.5)))\n",
    "plt.xscale('log')\n",
    "plt.yscale('log')"
   ]
  },
  {
   "cell_type": "code",
   "execution_count": null,
   "metadata": {},
   "outputs": [],
   "source": []
  }
 ],
 "metadata": {
  "kernelspec": {
   "display_name": "cu_env",
   "language": "python",
   "name": "python3"
  },
  "language_info": {
   "codemirror_mode": {
    "name": "ipython",
    "version": 3
   },
   "file_extension": ".py",
   "mimetype": "text/x-python",
   "name": "python",
   "nbconvert_exporter": "python",
   "pygments_lexer": "ipython3",
   "version": "3.9.18"
  }
 },
 "nbformat": 4,
 "nbformat_minor": 2
}
