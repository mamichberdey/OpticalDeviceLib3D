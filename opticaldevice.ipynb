{
 "cells": [
  {
   "cell_type": "code",
   "execution_count": 2,
   "metadata": {},
   "outputs": [],
   "source": [
    "import numpy as np\n",
    "from scipy import stats\n",
    "import matplotlib.pyplot as plt\n",
    "from scipy.fftpack import fft2, ifft2\n",
    "import cupy as cp\n",
    "from cupyx.scipy.fftpack import fft2 as cu_fft2\n",
    "from cupyx.scipy.fftpack import ifft2 as cu_ifft2"
   ]
  },
  {
   "cell_type": "code",
   "execution_count": 3,
   "metadata": {},
   "outputs": [],
   "source": [
    "def P(x, y, z, k):\n",
    "    \"\"\" Fresnel propagator \"\"\"\n",
    "    norm = 1\n",
    "    osn = np.exp(-(x**2 + y**2)/(2*z))\n",
    "    return norm*osn"
   ]
  },
  {
   "cell_type": "code",
   "execution_count": 4,
   "metadata": {},
   "outputs": [],
   "source": [
    "def P_gpu(x, y, z, k):\n",
    "    \"\"\" Fresnel propagator \"\"\"\n",
    "    norm = 1\n",
    "    osn = cp.exp(-(x**2 + y**2)/(2*z))\n",
    "    return norm*osn"
   ]
  },
  {
   "cell_type": "code",
   "execution_count": 5,
   "metadata": {},
   "outputs": [],
   "source": [
    "def ft2d_cpu(array, dx, dy):\n",
    "    \"\"\"\n",
    "    Calculate normalized Fourier transform of the input 'array';\n",
    "    return 'ft_array' of the same size\n",
    "    \"\"\"\n",
    "    n, m = np.shape(array)\n",
    "    k, l = np.arange(0, n), np.arange(0, m)\n",
    "    c_k = np.exp(1j * np.pi * k * (1-1/n))\n",
    "    c_l = np.exp(1j * np.pi * l * (1-1/m))\n",
    "    C_l, C_k = np.meshgrid(c_l, c_k)\n",
    "    C_kl = np.multiply(C_l, C_k)\n",
    "    A_n = np.exp(1j * np.pi * (1 - 1/(2*n) - n/2))\n",
    "    A_m = np.exp(1j * np.pi * (1 - 1/(2*m) - m/2))\n",
    "    ft_array = dx * dy * A_n * A_m * np.multiply(C_kl, fft2(np.multiply(array, C_kl)))\n",
    "\n",
    "    return ft_array"
   ]
  },
  {
   "cell_type": "code",
   "execution_count": 6,
   "metadata": {},
   "outputs": [],
   "source": [
    "def ift2d_cpu(array, dx, dy):\n",
    "    \"\"\"\n",
    "    Calculate normalized Fourier transform of the input 'array';\n",
    "    return 'ft_array' of the same size\n",
    "    \"\"\"\n",
    "    n, m = np.shape(array)\n",
    "    k, l = np.arange(0, n), np.arange(0, m)\n",
    "    c_k = np.exp(-1j * np.pi * k * (1-1/n))\n",
    "    c_l = np.exp(-1j * np.pi * l * (1-1/m))\n",
    "    C_l, C_k = np.meshgrid(c_l, c_k)\n",
    "    C_kl = np.multiply(C_l, C_k)\n",
    "    A_n = np.exp(-1j * np.pi * (1 - 1/(2*n) - n/2))\n",
    "    A_m = np.exp(-1j * np.pi * (1 - 1/(2*m) - m/2))\n",
    "    ft_array = 1/dx * 1/dy * A_n * A_m * np.multiply(C_kl, ifft2(np.multiply(array, C_kl)))\n",
    "\n",
    "    return ft_array"
   ]
  },
  {
   "cell_type": "code",
   "execution_count": 7,
   "metadata": {},
   "outputs": [],
   "source": [
    "def ft2d_gpu(array, dx, dy):\n",
    "    \n",
    "    n, m = cp.shape(array)\n",
    "    k, l = cp.arange(0, n), cp.arange(0, m)\n",
    "    c_k = cp.exp(1j * cp.pi * k * (1-1/n))\n",
    "    c_l = cp.exp(1j * cp.pi * l * (1-1/m))\n",
    "    C_l, C_k = cp.meshgrid(c_l, c_k)\n",
    "    C_kl = cp.multiply(C_l, C_k)\n",
    "    A_n = cp.exp(1j * np.pi * (1 - 1/(2*n) - n/2))\n",
    "    A_m = cp.exp(1j * np.pi * (1 - 1/(2*m) - m/2))\n",
    "    ft_array = dx * dy * A_n * A_m * np.multiply(C_kl, cu_fft2(cp.multiply(array, C_kl)))\n",
    "\n",
    "    return ft_array"
   ]
  },
  {
   "cell_type": "code",
   "execution_count": null,
   "metadata": {},
   "outputs": [],
   "source": [
    "def ift2d_gpu(array, dx, dy):\n",
    "    \n",
    "    n, m = cp.shape(array)\n",
    "    k, l = cp.arange(0, n), cp.arange(0, m)\n",
    "    c_k = cp.exp(-1j * cp.pi * k * (1-1/n))\n",
    "    c_l = cp.exp(-1j * cp.pi * l * (1-1/m))\n",
    "    C_l, C_k = cp.meshgrid(c_l, c_k)\n",
    "    C_kl = cp.multiply(C_l, C_k)\n",
    "    A_n = cp.exp(-1j * np.pi * (1 - 1/(2*n) - n/2))\n",
    "    A_m = cp.exp(-1j * np.pi * (1 - 1/(2*m) - m/2))\n",
    "    ft_array = 1/dx * 1/dy * A_n * A_m * np.multiply(C_kl, cu_ifft2(cp.multiply(array, C_kl)))\n",
    "    \n",
    "    return ft_array"
   ]
  },
  {
   "cell_type": "code",
   "execution_count": 8,
   "metadata": {},
   "outputs": [],
   "source": [
    "N = 2**10\n",
    "dx = 0.1\n",
    "dq = 2*np.pi/(dx*N) # step of reciprocal-space\n",
    "lb, rb = -(N-1)/2, N/2\n",
    "barrx = np.arange(lb, rb) # base array\n",
    "x, qx = barrx*dx, barrx*dq # real and reciprocal spaces\n",
    "\n",
    "M = 2**10\n",
    "dy = 0.1\n",
    "dq = 2*np.pi/(dx*M) # step of reciprocal-space\n",
    "lb, rb = -(M-1)/2, M/2\n",
    "barry = np.arange(lb, rb) # base array\n",
    "y, qy = barry*dy, barry*dq # real and reciprocal spaces\n",
    "\n",
    "# y = stats.norm.pdf(x, 0, 1)\n",
    "# plt.plot(q, ft1d_cpu(y, dx).imag)\n",
    "X, Y = np.meshgrid(x, y)\n",
    "X_gpu, Y_gpu = cp.array(X), cp.array(Y)\n",
    "QX, QY = np.meshgrid(qx, qy)"
   ]
  },
  {
   "cell_type": "code",
   "execution_count": 9,
   "metadata": {},
   "outputs": [
    {
     "name": "stdout",
     "output_type": "stream",
     "text": [
      "<class 'numpy.float64'>\n"
     ]
    }
   ],
   "source": [
    "gauss_pdf = P(X, Y, z=1, k=1)\n",
    "gauss_pdf_gpu = P_gpu(X_gpu, Y_gpu, z=1, k=1)\n",
    "print(type(gauss_pdf[0][0]))"
   ]
  },
  {
   "cell_type": "code",
   "execution_count": 10,
   "metadata": {},
   "outputs": [
    {
     "data": {
      "text/plain": [
       "array([1, 2, 3, 4, 5, 6, 7, 8, 9])"
      ]
     },
     "execution_count": 10,
     "metadata": {},
     "output_type": "execute_result"
    }
   ],
   "source": [
    "cp.arange(1, 10)"
   ]
  },
  {
   "cell_type": "code",
   "execution_count": null,
   "metadata": {},
   "outputs": [],
   "source": [
    "# sigma = 1\n",
    "# rv = stats.multivariate_normal([0, 0], [[sigma**2, 0], [0, sigma**2]])\n",
    "# pos = np.dstack((X, Y))\n",
    "# # pos = [0, 0]\n",
    "# gauss_pdf = rv.pdf(pos)\n",
    "\n",
    "# gauss_pdf_gpu = cp.array(gauss_pdf)\n",
    "# print(type(gauss_pdf_gpu.get()))\n",
    "\n",
    "# fig, ax = plt.subplots(subplot_kw={\"projection\": \"3d\"})\n",
    "# ax.plot_surface(X, Y, rv.pdf(pos))\n",
    "\n",
    "fig1, ax1 = plt.subplots(1,1)\n",
    "pcol = plt.pcolor(X, Y, gauss_pdf, cmap=\"bone\")\n",
    "ax1.set_xlim(-5, 5)\n",
    "ax1.set_ylim(-5, 5)\n",
    "plt.colorbar(pcol)"
   ]
  },
  {
   "cell_type": "code",
   "execution_count": null,
   "metadata": {},
   "outputs": [],
   "source": [
    "fig2, ax2 = plt.subplots(1,1)\n",
    "gauss_fft_gpu = ft2d_gpu(gauss_pdf_gpu, dx, dy)\n",
    "pcol2 = plt.pcolormesh(QX, QY, gauss_fft_gpu.get().real, cmap=\"bone\")\n",
    "ax2.set_xlim(-5, 5)\n",
    "ax2.set_ylim(-5, 5)\n",
    "plt.colorbar(pcol2)"
   ]
  },
  {
   "cell_type": "code",
   "execution_count": null,
   "metadata": {},
   "outputs": [],
   "source": [
    "fig2, ax2 = plt.subplots(1,1)\n",
    "gauss_fft_gpu = ft2d_gpu(gauss_pdf_gpu, dx, dy)\n",
    "gauss_fft = ft2d_cpu(gauss_pdf, dx, dy)\n",
    "print(type(gauss_fft_gpu.get()[0][0]))\n",
    "print(type(gauss_fft[0][0]))\n",
    "# pcol2 = plt.pcolormesh(X, Y, gauss_pdf_gpu.get() - gauss_pdf, cmap=\"bone\")\n",
    "pcol2 = plt.pcolormesh(X, Y, gauss_fft.imag, cmap=\"bone\")\n",
    "# ax2.set_xlim(-5, 5)\n",
    "# ax2.set_ylim(-5, 5)\n",
    "plt.colorbar(pcol2)"
   ]
  },
  {
   "cell_type": "code",
   "execution_count": null,
   "metadata": {},
   "outputs": [],
   "source": [
    "pcol2 = plt.pcolormesh(X, Y, gauss_fft_gpu.get().imag, cmap=\"bone\")\n",
    "# ax2.set_xlim(-5, 5)\n",
    "# ax2.set_ylim(-5, 5)\n",
    "plt.colorbar(pcol2)"
   ]
  },
  {
   "cell_type": "code",
   "execution_count": null,
   "metadata": {},
   "outputs": [],
   "source": [
    "%%timeit\n",
    "gauss_fft_gpu = ft2d_gpu(gauss_pdf_gpu, dx, dy)"
   ]
  },
  {
   "cell_type": "code",
   "execution_count": null,
   "metadata": {},
   "outputs": [],
   "source": [
    "%%timeit\n",
    "gauss_fft = ft2d_cpu(gauss_pdf, dx, dy)"
   ]
  },
  {
   "cell_type": "code",
   "execution_count": null,
   "metadata": {},
   "outputs": [],
   "source": [
    "fig2, ax2 = plt.subplots(1,1)\n",
    "gauss_fft = ft2d_cpu(gauss_pdf, dx, dy)\n",
    "pcol2 = plt.pcolormesh(X, Y, ift2d_cpu(gauss_fft, dx, dy).imag, cmap=\"bone\")\n",
    "# ax2.set_xlim(-5, 5)\n",
    "# ax2.set_ylim(-5, 5)\n",
    "plt.colorbar(pcol2)"
   ]
  },
  {
   "cell_type": "code",
   "execution_count": null,
   "metadata": {},
   "outputs": [],
   "source": []
  },
  {
   "cell_type": "code",
   "execution_count": null,
   "metadata": {},
   "outputs": [],
   "source": [
    "fig2, ax2 = plt.subplots(1,1)\n",
    "pcol2 = plt.pcolormesh(X, Y, gauss_fft_gpu.get().imag, cmap=\"bone\")\n",
    "ax2.set_xlim(-5, 5)\n",
    "ax2.set_ylim(-5, 5)\n",
    "plt.colorbar(pcol2)"
   ]
  },
  {
   "cell_type": "code",
   "execution_count": null,
   "metadata": {},
   "outputs": [],
   "source": []
  }
 ],
 "metadata": {
  "kernelspec": {
   "display_name": "my_env",
   "language": "python",
   "name": "python3"
  },
  "language_info": {
   "codemirror_mode": {
    "name": "ipython",
    "version": 3
   },
   "file_extension": ".py",
   "mimetype": "text/x-python",
   "name": "python",
   "nbconvert_exporter": "python",
   "pygments_lexer": "ipython3",
   "version": "3.9.18"
  }
 },
 "nbformat": 4,
 "nbformat_minor": 2
}
